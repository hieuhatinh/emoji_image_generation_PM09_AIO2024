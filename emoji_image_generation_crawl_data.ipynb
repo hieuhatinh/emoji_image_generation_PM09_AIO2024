{
  "nbformat": 4,
  "nbformat_minor": 0,
  "metadata": {
    "colab": {
      "provenance": []
    },
    "kernelspec": {
      "name": "python3",
      "display_name": "Python 3"
    },
    "language_info": {
      "name": "python"
    }
  },
  "cells": [
    {
      "cell_type": "markdown",
      "source": [
        "### Cài đặt Selenium"
      ],
      "metadata": {
        "id": "J_aoNYNDwWli"
      }
    },
    {
      "cell_type": "code",
      "execution_count": null,
      "metadata": {
        "id": "QsPpE1g0vkKQ"
      },
      "outputs": [],
      "source": [
        "%%shell\n",
        "# Ubuntu no longer distributes chromium-browser outside of snap\n",
        "#\n",
        "# Proposed solution: https://askubuntu.com/questions/1204571/how-to-install-chromium-without-snap\n",
        "\n",
        "# Add debian buster\n",
        "cat > /etc/apt/sources.list.d/debian.list << \"EOF\"\n",
        "deb [arch=amd64 signed-by=/usr/share/keyrings/debian-buster.gpg] http://deb.debian.org/debian buster main\n",
        "deb [arch=amd64 signed-by=/usr/share/keyrings/debian-buster-updates.gpg] http://deb.debian.org/debian buster-updates main\n",
        "deb [arch=amd64 signed-by=/usr/share/keyrings/debian-security-buster.gpg] http://deb.debian.org/debian-security buster/updates main\n",
        "EOF\n",
        "\n",
        "# Add keys\n",
        "apt-key adv--keyserver keyserver.ubuntu.com--recv-keys DCC9EFBF77E11517\n",
        "apt-key adv--keyserver keyserver.ubuntu.com--recv-keys 648ACFD622F3D138\n",
        "apt-key adv--keyserver keyserver.ubuntu.com--recv-keys 112695A0E562B32A\n",
        "\n",
        "apt-key export 77E11517 | gpg--dearmour-o /usr/share/keyrings/debian-buster.gpg\n",
        "apt-key export 22F3D138 | gpg--dearmour-o /usr/share/keyrings/debian-buster-updates.gpg\n",
        "apt-key export E562B32A | gpg--dearmour-o /usr/share/keyrings/debian-security-buster.gpg\n",
        "\n",
        "# Prefer debian repo for chromium* packages only\n",
        "# Note the double-blank lines between entries\n",
        "cat > /etc/apt/preferences.d/chromium.pref << \"EOF\"\n",
        "Package: *\n",
        "Pin: release a=eoan\n",
        "Pin-Priority: 500\n",
        "\n",
        "\n",
        "Package: *\n",
        "Pin: origin \"deb.debian.org\"\n",
        "Pin-Priority: 300\n",
        "\n",
        "\n",
        "Package: chromium*\n",
        "Pin: origin \"deb.debian.org\"\n",
        "Pin-Priority: 700\n",
        "EOF\n",
        "\n",
        "# Install chromium and chromium-driver\n",
        "apt-get update\n",
        "apt-get install chromium chromium-driver\n",
        "\n",
        "# Install selenium\n",
        "pip install selenium"
      ]
    },
    {
      "cell_type": "markdown",
      "source": [
        "### Import các thư viện cần thiết"
      ],
      "metadata": {
        "id": "SSpVgd0ZwdM8"
      }
    },
    {
      "cell_type": "code",
      "source": [
        "import os\n",
        "import requests\n",
        "import time\n",
        "import pandas as pd\n",
        "import random\n",
        "import hashlib\n",
        "import urllib.parse\n",
        "from io import BytesIO\n",
        "from PIL import Image\n",
        "\n",
        "from tqdm import tqdm\n",
        "from selenium import webdriver\n",
        "from selenium.webdriver.chrome.service import Service\n",
        "from selenium.webdriver.common.by import By\n",
        "from selenium.webdriver.support.ui import WebDriverWait\n",
        "from selenium.webdriver.support import expected_conditions as EC"
      ],
      "metadata": {
        "id": "kejC3QAxwa09"
      },
      "execution_count": null,
      "outputs": []
    },
    {
      "cell_type": "markdown",
      "source": [
        "### Khởi tạo driver trình duyệt web"
      ],
      "metadata": {
        "id": "UidUsB2Swjsh"
      }
    },
    {
      "cell_type": "code",
      "source": [
        "WEBDRIVER_DELAY_TIME_INT = 20\n",
        "TIMEOUT_INT = 20\n",
        "service = Service(executable_path=r\"/usr/bin/chromedriver\")\n",
        "chrome_options = webdriver.ChromeOptions()\n",
        "chrome_options.add_argument(\"--headless\")\n",
        "chrome_options.add_argument(\"--no-sandbox\")\n",
        "chrome_options.add_argument(\"--disable-dev-shm-usage\")\n",
        "chrome_options.add_argument(\"window-size=1920x1080\")\n",
        "chrome_options.headless = True\n",
        "driver = webdriver.Chrome(service=service, options=chrome_options)\n",
        "driver.implicitly_wait(TIMEOUT_INT)\n",
        "wait = WebDriverWait(driver, WEBDRIVER_DELAY_TIME_INT)"
      ],
      "metadata": {
        "id": "As1hhXrqwaxf"
      },
      "execution_count": null,
      "outputs": []
    },
    {
      "cell_type": "markdown",
      "source": [
        "### Xây dựng hàm trích xuất đường dẫn ảnh từ trang web"
      ],
      "metadata": {
        "id": "YL1joXXFwpYO"
      }
    },
    {
      "cell_type": "code",
      "source": [
        "def get_image_links_from_page(page_url, driver):\n",
        "    driver.get(page_url)\n",
        "    try:\n",
        "        container = wait.until(EC.presence_of_element_located(\n",
        "            (By.CSS_SELECTOR, \"div.FS5UE28h.container\")\n",
        "        ))\n",
        "        image_items = wait.until(EC.presence_of_all_elements_located(\n",
        "            (By.CSS_SELECTOR, \"div.LQY5mtmC div.aLnnpRah.text-center\"))\n",
        "        )\n",
        "\n",
        "        image_links = []\n",
        "        for img_elem in image_items:\n",
        "            img_div = img_elem.find_element(By.CSS_SELECTOR, \"div.Mw1EAtrx img, img\")\n",
        "            img_url = img_div.get_attribute(\"src\")\n",
        "            img_title = img_div.get_attribute(\"title\")\n",
        "            if img_url:\n",
        "                image_links.append((img_url, img_title))\n",
        "        return image_links\n",
        "    except Exception as e:\n",
        "        print(f\"Error while trying to extract images: {e}\")\n",
        "        return []"
      ],
      "metadata": {
        "id": "yREW_iTYwau4"
      },
      "execution_count": null,
      "outputs": []
    },
    {
      "cell_type": "markdown",
      "source": [
        "### Xây dựng hàm kiểm tra ảnh trùng"
      ],
      "metadata": {
        "id": "631pz6nLxEGm"
      }
    },
    {
      "cell_type": "code",
      "source": [
        "def hash_image_content(url):\n",
        "    try:\n",
        "        response = requests.get(url, stream=True)\n",
        "        if response.status_code == 200:\n",
        "            return hashlib.md5(response.content).hexdigest()\n",
        "        else:\n",
        "            print(f\"Error downloading image from {url}; status: {response.status_code}\")\n",
        "    return None\n",
        "    except requests.exceptions.RequestException as e:\n",
        "        print(f\"Error with the image download for {url}: {e}\")\n",
        "        return None"
      ],
      "metadata": {
        "id": "wdVdCaVWwasf"
      },
      "execution_count": null,
      "outputs": []
    },
    {
      "cell_type": "markdown",
      "source": [
        "### Xây dựng hàm đổi định dạng ảnh"
      ],
      "metadata": {
        "id": "CEJyKt7exJ8h"
      }
    },
    {
      "cell_type": "code",
      "source": [
        "def convert_webp_to_jpg(webp_data):\n",
        "    try:\n",
        "        img = Image.open(BytesIO(webp_data))\n",
        "        if img.format == ’WEBP’:\n",
        "            if img.mode == ’RGBA’:\n",
        "                img = img.convert(’RGB’)\n",
        "            buffer = BytesIO()\n",
        "            img.save(buffer, format=\"JPEG\")\n",
        "            return buffer.getvalue()\n",
        "        else:\n",
        "            return webp_data\n",
        "    except Exception as e:\n",
        "        print(f\"Error converting WebP to JPG: {e}\")\n",
        "        return webp_data"
      ],
      "metadata": {
        "id": "2ZkAFq6lwaqM"
      },
      "execution_count": null,
      "outputs": []
    },
    {
      "cell_type": "markdown",
      "source": [
        "### Xây dựng hàm tải ảnh"
      ],
      "metadata": {
        "id": "pWJsA27OxT5u"
      }
    },
    {
      "cell_type": "code",
      "source": [
        "def download_image(img_url, img_name, folder_path):\n",
        "    try:\n",
        "        response = requests.get(img_url, stream=True)\n",
        "        if response.status_code == 200:\n",
        "            img_path = os.path.join(folder_path, f\"{img_name}\")\n",
        "            img_data = convert_webp_to_jpg(response.content)\n",
        "            with open(img_path, \"wb\") as f:\n",
        "                f.write(img_data)\n",
        "        else:\n",
        "            print(f\"Error downloading image from {img_url}; status: {response.status_code}\")\n",
        "    except requests.exceptions.RequestException as e:\n",
        "        print(f\"Error with the image download for {img_url}: {e}\")"
      ],
      "metadata": {
        "id": "UBf1Vx-pxVMH"
      },
      "execution_count": null,
      "outputs": []
    },
    {
      "cell_type": "markdown",
      "source": [
        "### Xây dựng hàm thu thập thông tin của một ảnh"
      ],
      "metadata": {
        "id": "mvp7etLixh_2"
      }
    },
    {
      "cell_type": "code",
      "source": [
        "def process_image_page(image_url, img_title, folder_path, idx, tag, seen_hashes):\n",
        "    img_hash = hash_image_content(image_url)\n",
        "    if img_hash and img_hash not in seen_hashes:\n",
        "        seen_hashes.add(img_hash)\n",
        "        new_file_name = f\"{tag}_{idx:07d}.jpg\"\n",
        "        download_image(image_url, new_file_name, folder_path)\n",
        "        metadata = {\n",
        "            \"file_name\": new_file_name,\n",
        "            \"image_url\": image_url,\n",
        "            \"image_title\": img_title,\n",
        "            \"tag\": tag\n",
        "        }\n",
        "        return metadata\n",
        "    else:\n",
        "        return None"
      ],
      "metadata": {
        "id": "ddeMmB4exVJZ"
      },
      "execution_count": null,
      "outputs": []
    },
    {
      "cell_type": "markdown",
      "source": [
        "### Xây dựng hàm duyệt qua từng trang web"
      ],
      "metadata": {
        "id": "oCEu3T5YxsS-"
      }
    },
    {
      "cell_type": "code",
      "source": [
        "def loop_over_pages(base_url, tags, total_pages, driver, folder_path):\n",
        "    os.makedirs(folder_path, exist_ok=True)\n",
        "    all_metadata = []\n",
        "    seen_hashes = set()\n",
        "\n",
        "    for tag in tags:\n",
        "        all_images = []\n",
        "        for page in tqdm(range(1, total_pages + 1), desc=f\"Extracting Images for {tag}\", unit=\"page\"):\n",
        "            page_url = f\"{base_url}/emoji-list/tag/{tag}?page={page}\"\n",
        "            images = get_image_links_from_page(page_url, driver)\n",
        "            all_images.extend(images)\n",
        "            time.sleep(1)\n",
        "        metadata_list = []\n",
        "        for idx, (img_url, img_title) in enumerate(all_images, start=1):\n",
        "            metadata = process_image_page(img_url, img_title, folder_path, idx, tag, seen_hashes)\n",
        "            if metadata:\n",
        "                metadata_list.append(metadata)\n",
        "        all_metadata.extend(metadata_list)\n",
        "    return all_metadata"
      ],
      "metadata": {
        "id": "lbDsUHjtxVGt"
      },
      "execution_count": null,
      "outputs": []
    },
    {
      "cell_type": "markdown",
      "source": [
        "### Xây dựng hàm lưu thông tin metadata"
      ],
      "metadata": {
        "id": "6a2Bsf5ax_Wf"
      }
    },
    {
      "cell_type": "code",
      "source": [
        "def save_metadata(metadata_list, metadata_file):\n",
        "    df = pd.DataFrame(metadata_list)\n",
        "    df.to_csv(metadata_file, index=False, encoding=\"utf-8\")"
      ],
      "metadata": {
        "id": "7XmnUqpIxVEF"
      },
      "execution_count": null,
      "outputs": []
    },
    {
      "cell_type": "markdown",
      "source": [
        "### Thực hiện thu thập dữ liệu"
      ],
      "metadata": {
        "id": "CkxjA84YyEX9"
      }
    },
    {
      "cell_type": "code",
      "source": [
        "os.makedirs(\"crawled_data\", exist_ok=True)\n",
        "folder_path = os.path.join(\"crawled_data\", \"images\")\n",
        "metadata_file = os.path.join(\"crawled_data\", \"metadata.csv\")\n",
        "\n",
        "base_url = \"https://discords.com\"\n",
        "tags = [\"Blobs\"]\n",
        "total_pages = 1000\n",
        "\n",
        "metadata_list = loop_over_pages(base_url, tags, total_pages, driver, folder_path)\n",
        "save_metadata(metadata_list, metadata_file)\n",
        "\n",
        "print(\"Start downloading images...\")\n",
        "with tqdm(total=len(metadata_list), desc=\"Downloading Images\", unit=\"image\") as pbar:\n",
        "    for metadata in metadata_list:\n",
        "        img_url = metadata['image_url']\n",
        "        file_name = metadata['file_name']\n",
        "        download_image(img_url, file_name, folder_path)\n",
        "        pbar.update(1)\n",
        "print(\"Download images completed.\")\n",
        "\n",
        "total_crawled_images = len(os.listdir(folder_path))\n",
        "print(f\"Total crawled images: {total_crawled_images}.\")\n",
        "\n",
        "driver.quit()"
      ],
      "metadata": {
        "id": "8_sjv6KBxU1b"
      },
      "execution_count": null,
      "outputs": []
    },
    {
      "cell_type": "markdown",
      "source": [
        "### Tạo mô tả cho ảnh emoji"
      ],
      "metadata": {
        "id": "C73Jsi-yyYde"
      }
    },
    {
      "cell_type": "code",
      "source": [],
      "metadata": {
        "id": "Rr0b-DWKwanm"
      },
      "execution_count": null,
      "outputs": []
    }
  ]
}